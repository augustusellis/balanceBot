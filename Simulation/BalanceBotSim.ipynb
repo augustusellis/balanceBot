{
 "cells": [
  {
   "cell_type": "code",
   "execution_count": 1,
   "metadata": {
    "collapsed": true
   },
   "outputs": [],
   "source": [
    "import numpy as np\n",
    "import control\n",
    "import matplotlib.pyplot as plt\n",
    "plt.rcParams['figure.figsize'] = [11, 5]"
   ]
  },
  {
   "cell_type": "markdown",
   "metadata": {},
   "source": [
    "# System Parameters"
   ]
  },
  {
   "cell_type": "code",
   "execution_count": 2,
   "metadata": {
    "collapsed": true
   },
   "outputs": [],
   "source": [
    "g = 9.81 # [m/s2]\n",
    "\n",
    "# Motor parameters:\n",
    "rg = 46.85 # Gear ratio\n",
    "V_rated = 12 # [V]\n",
    "i_stall = 2.1 # [A]\n",
    "T_stall = 85 / rg * 0.00706155 # [N-m] (85/rg nominal)\n",
    "free_run_speed = 160 * rg * np.pi/30 # [rad/s]\n",
    "\n",
    "k_e = V_rated/free_run_speed # [V/rad/s]\n",
    "k_t = T_stall/i_stall # [N*m/A]\n",
    "\n",
    "b = 0.000000 # [N*m/rad/s]\n",
    "R = V_rated/i_stall # [Ohms]\n",
    "L = 1e-3 # [H]\n",
    "\n",
    "# Pendulum parameters:\n",
    "mp = 1 # Pendulum mass [kg]\n",
    "mw = 0.3 # Wheel assembly mass [kg]\n",
    "Ip = 0.01 * 0.00029263 # Pendulum inertia [kg*m^2]\n",
    "Iw = 0.0026 * 0.00029263 # Wheel assembly inertia [kg*m^2]\n",
    "l = 0.1 # Length to cg [m]\n",
    "rw = 0.03 # Wheel radius [m]"
   ]
  },
  {
   "cell_type": "markdown",
   "metadata": {},
   "source": [
    "# DC Motor System Identification\n",
    "\n",
    "Define state space for motors.\n",
    "\n",
    "X = $[\\dot{\\theta}_{internal}, i]$\n",
    "\n",
    "Y = $\\dot{\\theta}_{internal}$ [RPM]"
   ]
  },
  {
   "cell_type": "code",
   "execution_count": 3,
   "metadata": {},
   "outputs": [
    {
     "data": {
      "text/plain": [
       "\n",
       "        1.634e+06\n",
       "------------------------\n",
       "s^2 + 5714 s + 1.226e+05"
      ]
     },
     "execution_count": 3,
     "metadata": {},
     "output_type": "execute_result"
    }
   ],
   "source": [
    "A = np.array([[-b/Iw, k_t/Iw],\n",
    "              [-k_e/L, -R/L]])\n",
    "B = np.array([[0],[1/L]])\n",
    "C = np.array([30/np.pi/rg, 0]) \n",
    "D = np.array(0)\n",
    "\n",
    "motor_ss = control.ss(A,B,C,D)\n",
    "motor_tf = control.tf(motor_ss)\n",
    "motor_tf"
   ]
  },
  {
   "cell_type": "markdown",
   "metadata": {},
   "source": [
    "Test step to motor, and plot experimental data."
   ]
  },
  {
   "cell_type": "code",
   "execution_count": 12,
   "metadata": {},
   "outputs": [
    {
     "name": "stdout",
     "output_type": "stream",
     "text": [
      "159.999999929\n"
     ]
    },
    {
     "data": {
      "image/png": "[encoded data removed]",
      "text/plain": [
       "<matplotlib.figure.Figure at 0x112f9d3c8>"
      ]
     },
     "metadata": {},
     "output_type": "display_data"
    }
   ],
   "source": [
    "time = []\n",
    "pos = []\n",
    "f = open('rpm_data.txt')\n",
    "for line in f.readlines():\n",
    "    dat = line.split(',')\n",
    "    time.append(float(dat[0]))\n",
    "    pos.append(int(dat[1][:-1]))\n",
    "\n",
    "num_skip = 100\n",
    "time = np.array(time)[::num_skip]\n",
    "pos = np.array(pos)[::num_skip]\n",
    "rpm = np.diff(pos)/(46.85*48)/np.diff(time)*60\n",
    "\n",
    "(t, y_out) = control.step_response(motor_tf, np.linspace(0,1,1000))\n",
    "V = 12 # Applied step voltage\n",
    "omega_rpm = V * y_out\n",
    "print(np.max(omega_rpm))\n",
    "\n",
    "plt.clf()\n",
    "plt.plot(t,omega_rpm)\n",
    "plt.plot(time[:-1]-1,-rpm)\n",
    "plt.xlim((0,0.5))\n",
    "#plt.title(\"Motor RPM\")\n",
    "plt.xlabel('time [s]')\n",
    "plt.ylabel('Motor RPM')\n",
    "plt.legend(['Theoretical','Measured'])\n",
    "plt.grid(True)\n",
    "plt.show()"
   ]
  },
  {
   "cell_type": "code",
   "execution_count": null,
   "metadata": {
    "collapsed": true
   },
   "outputs": [],
   "source": [
    "T = 0.0021\n",
    "\n",
    "Kp = 0.1\n",
    "Kd = 0\n",
    "Ki = 0\n",
    "\n",
    "#PID = control.tf([1],[1,1])\n",
    "PID = control.tf([Kd+Kp+Ki,-Kd],[1,-1],T)\n",
    "print(PID)\n",
    "motor_tf_d = control.c2d(motor_tf,T)\n",
    "\n",
    "#motor_sys = PID_d*motor_tf_d/(1+PID_d*motor_tf_d) \n",
    "motor_sys = control.feedback(PID*motor_tf_d)\n",
    "print(motor_sys)\n",
    "#t = np.arange(1,10,1)\n",
    "#t,sys_out = control.step_response(motor_sys)\n",
    "\n",
    "plt.clf()\n",
    "plt.plot(t*T,sys_out[0][0:len(t)],label='system')\n",
    "#plt.xlim((0,2))\n",
    "plt.title(\"RPM\")\n",
    "plt.xlabel('time [s]')\n",
    "plt.ylabel('RPM')\n",
    "plt.legend()\n",
    "plt.grid(True)\n",
    "plt.show()"
   ]
  },
  {
   "cell_type": "markdown",
   "metadata": {},
   "source": [
    "# Full System Simulation\n",
    "\n",
    "X = $[x, \\dot{x}, \\theta, \\dot{\\theta}]$\n",
    "\n",
    "u = Voltage"
   ]
  },
  {
   "cell_type": "code",
   "execution_count": null,
   "metadata": {
    "collapsed": true
   },
   "outputs": [],
   "source": [
    "M = np.array([[1, 0, 0, 0],\n",
    "              [0, mp+mw+Ip/(rw**2), 0, mp*l],\n",
    "              [0, 0, 1, 0],\n",
    "              [0, mp*l, 0, Ip+mp*(l**2)]])\n",
    "M_inv = np.linalg.inv(M)\n",
    "\n",
    "a = np.array([[0, 1, 0, 0],\n",
    "              [0, -2*k_t*k_e/(R*rw*rw), 0, -2*k_t*k_e/(R*rw)],\n",
    "              [0, 0, 0, 1],\n",
    "              [0, 2*k_t*k_e/(R*rw), mp*g*l, 2*k_t*k_e/R]])\n",
    "b = np.array([[0],\n",
    "              [2*k_t/(R*rw)],\n",
    "              [0],\n",
    "              [-2*k_t/R]])\n",
    "A = M_inv @ a\n",
    "B = M_inv @ b\n",
    "C = np.eye(4)\n",
    "C = np.array([0,0,1,0])\n",
    "D = np.zeros([1,1])\n",
    "print(A)\n",
    "print(D)"
   ]
  },
  {
   "cell_type": "code",
   "execution_count": null,
   "metadata": {
    "collapsed": true
   },
   "outputs": [],
   "source": [
    "sys_ss = control.ss(A,B,C,D)\n",
    "sys_tf = control.tf(sys_ss)\n",
    "control.bode(sys_tf)\n",
    "plt.show()\n",
    "control.dcgain(sys_tf)"
   ]
  },
  {
   "cell_type": "markdown",
   "metadata": {
    "collapsed": true
   },
   "source": [
    "Calculate LQR:"
   ]
  },
  {
   "cell_type": "code",
   "execution_count": null,
   "metadata": {
    "collapsed": true
   },
   "outputs": [],
   "source": [
    "Q = np.array([[1, 0, 0, 0],\n",
    "              [0, 1, 0, 0],\n",
    "              [0, 0, 1, 0],\n",
    "              [0, 0, 0, 1]])\n",
    "R = np.array([1])\n",
    "K,_,_ = control.lqr(A,B,Q,R)\n",
    "K"
   ]
  },
  {
   "cell_type": "code",
   "execution_count": null,
   "metadata": {
    "collapsed": true
   },
   "outputs": [],
   "source": []
  }
 ],
 "metadata": {
  "kernelspec": {
   "display_name": "Python 3",
   "language": "python",
   "name": "python3"
  },
  "language_info": {
   "codemirror_mode": {
    "name": "ipython",
    "version": 3
   },
   "file_extension": ".py",
   "mimetype": "text/x-python",
   "name": "python",
   "nbconvert_exporter": "python",
   "pygments_lexer": "ipython3",
   "version": "3.5.3"
  }
 },
 "nbformat": 4,
 "nbformat_minor": 2
}
